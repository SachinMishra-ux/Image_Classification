{
 "cells": [
  {
   "cell_type": "code",
   "execution_count": 1,
   "metadata": {},
   "outputs": [],
   "source": [
    "import os\n",
    "\n",
    "# selenuim 4\n",
    "from selenium import webdriver\n",
    "from selenium.webdriver.common.by import By\n",
    "\n",
    "import time\n",
    "#from selenium.webdriver.chrome.service import Service as ChromeService\n",
    "#from webdriver_manager.chrome import ChromeDriverManager"
   ]
  },
  {
   "cell_type": "code",
   "execution_count": 2,
   "metadata": {},
   "outputs": [
    {
     "name": "stdout",
     "output_type": "stream",
     "text": [
      "0 1\n",
      "1 2\n",
      "2 3\n",
      "3 4\n",
      "4 5\n"
     ]
    }
   ],
   "source": [
    "s1= (1,2,3,4,5)\n",
    "for i, elem in enumerate(s1):\n",
    "    print(i,elem)"
   ]
  },
  {
   "cell_type": "code",
   "execution_count": 2,
   "metadata": {},
   "outputs": [],
   "source": [
    "from PIL import Image"
   ]
  },
  {
   "cell_type": "code",
   "execution_count": 6,
   "metadata": {},
   "outputs": [],
   "source": [
    "import os\n",
    "\n",
    "# selenuim 4\n",
    "from selenium import webdriver\n",
    "from selenium.webdriver.common.by import By\n",
    "\n",
    "import time\n",
    "#from selenium.webdriver.chrome.service import Service as ChromeService\n",
    "#from webdriver_manager.chrome import ChromeDriverManager\n",
    "\n",
    "import requests\n",
    "import io\n",
    "from PIL import Image\n",
    "\n",
    "def get_urls(query: str, delay: int) ->set:\n",
    "    images_urls= set()\n",
    "    browser= webdriver.Chrome()\n",
    "    browser.get('https://images.google.com/')\n",
    "    search_box= browser.find_element(By.CSS_SELECTOR, '#APjFqb.gLFyf')\n",
    "    search_box.send_keys(query)\n",
    "    search_box.submit()\n",
    "\n",
    "    time.sleep(delay)\n",
    "    browser.execute_script('window.scrollTo(0, document.body.scrollHeight);')\n",
    "    time.sleep(delay)\n",
    "    browser.execute_script('window.scrollTo(0, document.body.scrollHeight);')\n",
    "    time.sleep(delay)\n",
    "    browser.execute_script('window.scrollTo(0, document.body.scrollHeight);')\n",
    "    thumbnails = browser.find_elements(By.CLASS_NAME, \"Q4LuWd\")\n",
    "    for image in thumbnails:\n",
    "        if image.get_attribute('src') and 'http' in image.get_attribute('src'):\n",
    "           images_urls.add(image.get_attribute('src'))\n",
    "\n",
    "    return images_urls"
   ]
  },
  {
   "cell_type": "code",
   "execution_count": 7,
   "metadata": {},
   "outputs": [],
   "source": [
    "def download_images(query, delay, no_of_images):\n",
    "    image_urls= get_urls(query, delay)\n",
    "    try:\n",
    "        if image_urls is not None:\n",
    "            os.makedirs(query, exist_ok=True)\n",
    "            for i, url in enumerate(image_urls):\n",
    "                if i==no_of_images:\n",
    "                   break\n",
    "                image_content= requests.get(url).content\n",
    "                image_file=  io.BytesIO(image_content)\n",
    "                image= Image.open(image_file)\n",
    "                file_path= os.path.join(os.path.curdir, query, str(i)+ \".jpg\")\n",
    "                \n",
    "                with open(file_path, 'wb') as f:\n",
    "                   image.save(f, \"JPEG\")\n",
    "            return 'images download successfully'\n",
    "        else:\n",
    "            return \"No Images found\"\n",
    "    except Exception as e:\n",
    "        return e"
   ]
  },
  {
   "cell_type": "code",
   "execution_count": 11,
   "metadata": {},
   "outputs": [
    {
     "data": {
      "text/plain": [
       "'images download successfully'"
      ]
     },
     "execution_count": 11,
     "metadata": {},
     "output_type": "execute_result"
    }
   ],
   "source": [
    "download_images('rishi sunak', 2,100)"
   ]
  }
 ],
 "metadata": {
  "kernelspec": {
   "display_name": "Python 3",
   "language": "python",
   "name": "python3"
  },
  "language_info": {
   "codemirror_mode": {
    "name": "ipython",
    "version": 3
   },
   "file_extension": ".py",
   "mimetype": "text/x-python",
   "name": "python",
   "nbconvert_exporter": "python",
   "pygments_lexer": "ipython3",
   "version": "3.8.17"
  },
  "orig_nbformat": 4
 },
 "nbformat": 4,
 "nbformat_minor": 2
}
